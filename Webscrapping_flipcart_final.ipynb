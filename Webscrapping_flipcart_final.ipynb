{
 "cells": [
  {
   "cell_type": "code",
   "execution_count": 1,
   "id": "4a697530",
   "metadata": {},
   "outputs": [],
   "source": [
    "# Ganesh bodakhe\n",
    "'''\n",
    "Problem Statement : Scrape The Data From Flipkart And Lazada.\n",
    "Save the product info in csv files. You will create one csv file for Flipkart and one for Lazada.\n",
    "Sort the data in descending order based on Price. \n",
    "Later concatenate the data showing top 5 products from both CSV files into final CSV File.\n",
    "\n",
    "Column Names :  productName  productPrice  productDesc  productImg  productBuyLink\n",
    "'''\n",
    "None"
   ]
  },
  {
   "cell_type": "code",
   "execution_count": 2,
   "id": "d1d31eb9",
   "metadata": {},
   "outputs": [],
   "source": [
    "# I.) Scrape The Data From Flipkart\n",
    "import pandas as pd\n",
    "import numpy as np\n",
    "import time\n",
    "import requests\n",
    "import selenium\n",
    "from selenium import webdriver\n",
    "import warnings\n",
    "warnings.filterwarnings('ignore')\n",
    "from bs4 import BeautifulSoup\n",
    "\n",
    "def getUrl(key):\n",
    "    key = key.replace(' ','+')\n",
    "    temp = 'https://www.flipkart.com/search?q={}'\n",
    "    url = temp.format(key)\n",
    "    return url\n",
    "\n",
    "def get_product(card):\n",
    "    # Fetching product_name ----------------------------\n",
    "    try:\n",
    "        product_name = card.find('a','IRpwTa').text\n",
    "    except:\n",
    "        product_name = 'Not Mentioned'\n",
    "        \n",
    "    # Fetching product_price ----------------------------\n",
    "    try:\n",
    "        product_price = card.find('div','_30jeq3').text\n",
    "    except:\n",
    "        product_price = 'Not Mentioned'\n",
    "        \n",
    "    # Fetching product_desc ----------------------------\n",
    "    try:\n",
    "        product_desc = card.find('div','_3Ay6Sb').text\n",
    "\n",
    "    except:\n",
    "        product_desc = 'Not Mentioned'\n",
    "\n",
    "    # Fetching product_img_url ----------------------------\n",
    "    try:\n",
    "        product_img_url = card.find('img','_2r_T1I')\n",
    "        product_img_url = product_img_url['src']\n",
    "    except:\n",
    "        product_img_url = 'Not Mentioned'\n",
    "        \n",
    "    # Fetching product_buy_link ----------------------------\n",
    "    try:\n",
    "        product_buy_link = card.find('a','_2UzuFa')\n",
    "        product_buy_link = 'https://www.flipkart.com'+ product_buy_link['href'] \n",
    "    except:\n",
    "        product_buy_link = 'Not Mentioned'\n",
    "    \n",
    "    product_compete_info = (product_name,product_price,product_desc,product_img_url,product_buy_link)\n",
    "    return product_compete_info\n",
    "\n",
    "def main(product):\n",
    "    all_products = []\n",
    "    url = getUrl(product)\n",
    "    res = requests.get(url)\n",
    "    soup = BeautifulSoup(res.content,'html.parser')\n",
    "    all_divs = soup.find_all('div','_1xHGtK _373qXS')\n",
    "    for i in all_divs:\n",
    "        temp = get_product(i)\n",
    "        all_products.append(temp)\n",
    "    col = ['product_name','product_price','product_desc','product_img_url','product_buy_link']\n",
    "    flipcart_product_data = pd.DataFrame(all_products,columns=col)\n",
    "    flipcart_product_data.to_csv('D:\\\\Acadamics\\\\Internship\\\\iGurus\\\\Projects\\\\FlipCart_lazada_webscrapping\\\\flipcart_product_data.csv',encoding='utf-8')"
   ]
  },
  {
   "cell_type": "code",
   "execution_count": 3,
   "id": "76d63d5f",
   "metadata": {},
   "outputs": [],
   "source": [
    "main('jeans')"
   ]
  }
 ],
 "metadata": {
  "kernelspec": {
   "display_name": "Python 3 (ipykernel)",
   "language": "python",
   "name": "python3"
  },
  "language_info": {
   "codemirror_mode": {
    "name": "ipython",
    "version": 3
   },
   "file_extension": ".py",
   "mimetype": "text/x-python",
   "name": "python",
   "nbconvert_exporter": "python",
   "pygments_lexer": "ipython3",
   "version": "3.11.5"
  }
 },
 "nbformat": 4,
 "nbformat_minor": 5
}
